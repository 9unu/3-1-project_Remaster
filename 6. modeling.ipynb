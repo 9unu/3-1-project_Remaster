{
 "cells": [
  {
   "cell_type": "markdown",
   "metadata": {},
   "source": [
    "# (1) Data Load"
   ]
  },
  {
   "cell_type": "code",
   "execution_count": 392,
   "metadata": {},
   "outputs": [],
   "source": [
    "import pandas as pd\n",
    "import numpy as np\n",
    "\n",
    "data=pd.read_csv(r\"C:\\Users\\USER\\Desktop\\건우\\fat_predict_project\\data\\public_health_data_csv\\profiling용.csv\")"
   ]
  },
  {
   "cell_type": "markdown",
   "metadata": {},
   "source": [
    "-     '5.feature_filterling.ipynb' 에서 만든 특성 list import"
   ]
  },
  {
   "cell_type": "code",
   "execution_count": 393,
   "metadata": {},
   "outputs": [
    {
     "name": "stdout",
     "output_type": "stream",
     "text": [
      "continuous_columns\n",
      "['N_WATER', 'N_FAT', 'age', 'HE_ht', 'N_INTK', 'HE_wt', 'N_EN', 'N_CHO', 'HE_wc', 'DW_WBT_pFT', 'BP8', 'DW_WBT_BMD', 'N_PROT']\n",
      "category_columns\n",
      "['BO1_1', 'BO1_3', 'sex', 'BO3_07', 'fat', 'DI1_2', 'BO3_09', 'BO3_12', 'DI1_dg', 'EC1_1', 'BO3_05', 'BO2_1', 'BO3_04', 'BO3_02', 'N_DIET', 'BO3_03', 'BO3_01']\n"
     ]
    }
   ],
   "source": [
    "import pickle\n",
    "\n",
    "# 순서 적용해서 분류한 특성 리스트\n",
    "with open('total_list.pkl', 'rb') as f:\n",
    "    total_list = pickle.load(f)\n",
    "\n",
    "for i in total_list:\n",
    "    print(i)"
   ]
  },
  {
   "cell_type": "code",
   "execution_count": 394,
   "metadata": {},
   "outputs": [],
   "source": [
    "continuous_columns= total_list[1]\n",
    "category_columns=total_list[3]"
   ]
  },
  {
   "cell_type": "markdown",
   "metadata": {},
   "source": [
    "(2) Modeling"
   ]
  },
  {
   "cell_type": "markdown",
   "metadata": {},
   "source": [
    "-     1. 카테고리형 변수 원핫 인코딩"
   ]
  },
  {
   "cell_type": "code",
   "execution_count": 395,
   "metadata": {},
   "outputs": [],
   "source": [
    "# category_columns에서 타겟변수인 'fat'은 제외하고 원핫인코딩 리스트 ㅐㅅㅇ성\n",
    "one_hot_list=category_columns\n",
    "one_hot_list.remove('fat')\n",
    "for i in one_hot_list:\n",
    "    data[i] = data[i].astype(str)"
   ]
  },
  {
   "cell_type": "code",
   "execution_count": 396,
   "metadata": {},
   "outputs": [
    {
     "name": "stdout",
     "output_type": "stream",
     "text": [
      "<class 'pandas.core.frame.DataFrame'>\n",
      "RangeIndex: 4131 entries, 0 to 4130\n",
      "Data columns (total 16 columns):\n",
      " #   Column  Non-Null Count  Dtype \n",
      "---  ------  --------------  ----- \n",
      " 0   BO1_1   4131 non-null   object\n",
      " 1   BO1_3   4131 non-null   object\n",
      " 2   sex     4131 non-null   object\n",
      " 3   BO3_07  4131 non-null   object\n",
      " 4   DI1_2   4131 non-null   object\n",
      " 5   BO3_09  4131 non-null   object\n",
      " 6   BO3_12  4131 non-null   object\n",
      " 7   DI1_dg  4131 non-null   object\n",
      " 8   EC1_1   4131 non-null   object\n",
      " 9   BO3_05  4131 non-null   object\n",
      " 10  BO2_1   4131 non-null   object\n",
      " 11  BO3_04  4131 non-null   object\n",
      " 12  BO3_02  4131 non-null   object\n",
      " 13  N_DIET  4131 non-null   object\n",
      " 14  BO3_03  4131 non-null   object\n",
      " 15  BO3_01  4131 non-null   object\n",
      "dtypes: object(16)\n",
      "memory usage: 516.5+ KB\n"
     ]
    }
   ],
   "source": [
    "data[one_hot_list].info()"
   ]
  },
  {
   "cell_type": "code",
   "execution_count": 397,
   "metadata": {},
   "outputs": [],
   "source": [
    "# 원핫인코딩 적용한 데이터 프레임\n",
    "encoded_data=pd.get_dummies(data[one_hot_list])"
   ]
  },
  {
   "cell_type": "markdown",
   "metadata": {},
   "source": [
    "-     2. 연속형 변수 min_max_scaling "
   ]
  },
  {
   "cell_type": "code",
   "execution_count": 398,
   "metadata": {},
   "outputs": [],
   "source": [
    "from sklearn.preprocessing import MinMaxScaler\n",
    "\n",
    "# Min-Max Scaler 객체 생성\n",
    "scaler = MinMaxScaler()\n",
    "\n",
    "\n",
    "# 선택한 컬럼들에 Min-Max Scaling 적용\n",
    "data[continuous_columns] = scaler.fit_transform(data[continuous_columns])"
   ]
  },
  {
   "cell_type": "code",
   "execution_count": 399,
   "metadata": {},
   "outputs": [],
   "source": [
    "# 원핫인코딩한 데이터프레임, 연속형특성 데이터프레임, 타겟변수 데이터프레임 병합\n",
    "data=pd.concat((encoded_data, data[continuous_columns], data['fat']), axis=1)"
   ]
  },
  {
   "cell_type": "markdown",
   "metadata": {},
   "source": [
    "-     3. 모델링 "
   ]
  },
  {
   "cell_type": "code",
   "execution_count": 400,
   "metadata": {},
   "outputs": [],
   "source": [
    "y = data['fat']\n",
    "X = data.drop(['fat', 'DW_WBT_pFT','DW_WBT_BMD'], axis=1)"
   ]
  },
  {
   "cell_type": "code",
   "execution_count": 401,
   "metadata": {},
   "outputs": [],
   "source": [
    "from sklearn.model_selection import train_test_split\n",
    "X_train, X_test, y_train, y_test = train_test_split(X, y, test_size=0.3, shuffle=True, stratify=y, random_state=42)"
   ]
  },
  {
   "cell_type": "code",
   "execution_count": 402,
   "metadata": {},
   "outputs": [
    {
     "name": "stdout",
     "output_type": "stream",
     "text": [
      "Accuracy: 0.532258064516129\n",
      "F1 스코어: 0.5280803294265959\n",
      "              precision    recall  f1-score   support\n",
      "\n",
      "           0       0.63      0.65      0.64       413\n",
      "           1       0.40      0.35      0.38       413\n",
      "           2       0.55      0.59      0.57       414\n",
      "\n",
      "    accuracy                           0.53      1240\n",
      "   macro avg       0.53      0.53      0.53      1240\n",
      "weighted avg       0.53      0.53      0.53      1240\n",
      "\n"
     ]
    }
   ],
   "source": [
    "from sklearn.ensemble import RandomForestClassifier\n",
    "from sklearn.metrics import accuracy_score, f1_score\n",
    "from sklearn.metrics import classification_report\n",
    "\n",
    "# 모델 객체\n",
    "rf_classifier = RandomForestClassifier()\n",
    "\n",
    "# 모델 훈련\n",
    "rf_classifier.fit(X_train, y_train)\n",
    "\n",
    "# 예측값\n",
    "y_pred = rf_classifier.predict(X_test)\n",
    "\n",
    "# 정확도\n",
    "accuracy = accuracy_score(y_test, y_pred)\n",
    "print(\"Accuracy:\", accuracy)\n",
    "\n",
    "# f1 스코어\n",
    "f1 = f1_score(y_test, y_pred, average='weighted')\n",
    "print(\"F1 스코어:\", f1)\n",
    "\n",
    "report = classification_report(y_test, y_pred)\n",
    "print(report)"
   ]
  },
  {
   "cell_type": "code",
   "execution_count": 403,
   "metadata": {},
   "outputs": [],
   "source": [
    "import matplotlib.pyplot as plt\n",
    "def feature_importance(model, X_train, top_n=30):\n",
    "    #model.fit(X_train, y_train)\n",
    "    importance=model.feature_importances_\n",
    "    feature_names = X_train.columns\n",
    "    # feature importance를 기준으로 내림차순 정렬\n",
    "    sorted_idx = importance.argsort()[::-1]\n",
    "    sorted_names = [feature_names[i] for i in sorted_idx]\n",
    "    sorted_importance = importance[sorted_idx]\n",
    "\n",
    "    # 상위 top_n개만 선택\n",
    "    sorted_names = sorted_names[:top_n]\n",
    "    sorted_importance = sorted_importance[:top_n]\n",
    "    \n",
    "    #특성이름 출력\n",
    "    print(sorted_names)\n",
    "   \n",
    "    # 바 차트로 시각화\n",
    "    plt.figure(figsize=(5, 5))\n",
    "    plt.barh(sorted_names, sorted_importance)\n",
    "    plt.xlabel('Feature Importance')\n",
    "    plt.ylabel('Features')\n",
    "    plt.title('Feature Importance')\n",
    "    plt.show()"
   ]
  },
  {
   "cell_type": "code",
   "execution_count": 404,
   "metadata": {},
   "outputs": [
    {
     "name": "stdout",
     "output_type": "stream",
     "text": [
      "['HE_wc', 'HE_wt', 'HE_ht', 'N_FAT', 'age', 'N_PROT', 'N_CHO', 'N_EN', 'N_INTK', 'N_WATER', 'BP8', 'EC1_1_1.0', 'N_DIET_2.0', 'EC1_1_2.0', 'N_DIET_1.0', 'BO1_1_2.0', 'BO1_1_1.0', 'BO2_1_1.0', 'sex_2', 'sex_1', 'BO1_1_3.0', 'BO1_3_8.0', 'BO3_03_1.0', 'BO3_03_0.0', 'DI1_dg_8.0', 'BO3_01_0.0', 'BO3_01_1.0', 'BO2_1_2.0', 'DI1_2_8.0', 'BO1_3_1.0']\n"
     ]
    },
    {
     "data": {
      "image/png": "[encoded data removed]",
      "text/plain": [
       "<Figure size 500x500 with 1 Axes>"
      ]
     },
     "metadata": {},
     "output_type": "display_data"
    }
   ],
   "source": [
    "feature_importance(rf_classifier, X_train, 30)"
   ]
  },
  {
   "cell_type": "markdown",
   "metadata": {},
   "source": [
    "-------\n",
    "번외로 딥러닝까지 진행함"
   ]
  },
  {
   "cell_type": "code",
   "execution_count": 405,
   "metadata": {},
   "outputs": [
    {
     "name": "stdout",
     "output_type": "stream",
     "text": [
      "[[1. 0. 0.]\n",
      " [1. 0. 0.]\n",
      " [1. 0. 0.]\n",
      " ...\n",
      " [0. 0. 1.]\n",
      " [0. 0. 1.]\n",
      " [0. 0. 1.]]\n"
     ]
    }
   ],
   "source": [
    "from keras.utils import np_utils\n",
    "y_encoded=np_utils.to_categorical(y)\n",
    "print(y_encoded)"
   ]
  },
  {
   "cell_type": "code",
   "execution_count": 406,
   "metadata": {},
   "outputs": [],
   "source": [
    "from keras.models import Sequential\n",
    "from keras.layers import Dense\n",
    "model=Sequential()\n",
    "model.add(Dense(16, input_dim=len(X.columns), activation='relu'))\n",
    "model.add(Dense(3, activation='softmax'))"
   ]
  },
  {
   "cell_type": "code",
   "execution_count": 407,
   "metadata": {},
   "outputs": [],
   "source": [
    "model.compile(loss='categorical_crossentropy', optimizer='adam', metrics=['accuracy'])"
   ]
  },
  {
   "cell_type": "code",
   "execution_count": 408,
   "metadata": {},
   "outputs": [
    {
     "name": "stdout",
     "output_type": "stream",
     "text": [
      "Epoch 1/50\n"
     ]
    },
    {
     "name": "stdout",
     "output_type": "stream",
     "text": [
      "4131/4131 [==============================] - 3s 660us/step - loss: 1.0415 - accuracy: 0.4529\n",
      "Epoch 2/50\n",
      "4131/4131 [==============================] - 3s 680us/step - loss: 0.9730 - accuracy: 0.4965\n",
      "Epoch 3/50\n",
      "4131/4131 [==============================] - 3s 778us/step - loss: 0.9488 - accuracy: 0.5238\n",
      "Epoch 4/50\n",
      "4131/4131 [==============================] - 3s 775us/step - loss: 0.9360 - accuracy: 0.5364\n",
      "Epoch 5/50\n",
      "4131/4131 [==============================] - 3s 642us/step - loss: 0.9277 - accuracy: 0.5369\n",
      "Epoch 6/50\n",
      "4131/4131 [==============================] - 3s 672us/step - loss: 0.9210 - accuracy: 0.5418\n",
      "Epoch 7/50\n",
      "4131/4131 [==============================] - 3s 654us/step - loss: 0.9193 - accuracy: 0.5502\n",
      "Epoch 8/50\n",
      "4131/4131 [==============================] - 3s 728us/step - loss: 0.9159 - accuracy: 0.5461\n",
      "Epoch 9/50\n",
      "4131/4131 [==============================] - 3s 829us/step - loss: 0.9117 - accuracy: 0.5551\n",
      "Epoch 10/50\n",
      "4131/4131 [==============================] - 3s 713us/step - loss: 0.9088 - accuracy: 0.5587\n",
      "Epoch 11/50\n",
      "4131/4131 [==============================] - 3s 654us/step - loss: 0.9078 - accuracy: 0.5587\n",
      "Epoch 12/50\n",
      "4131/4131 [==============================] - 3s 679us/step - loss: 0.9046 - accuracy: 0.5531\n",
      "Epoch 13/50\n",
      "4131/4131 [==============================] - 3s 688us/step - loss: 0.9039 - accuracy: 0.5638\n",
      "Epoch 14/50\n",
      "4131/4131 [==============================] - 3s 668us/step - loss: 0.9020 - accuracy: 0.5602\n",
      "Epoch 15/50\n",
      "4131/4131 [==============================] - 3s 683us/step - loss: 0.9004 - accuracy: 0.5606\n",
      "Epoch 16/50\n",
      "4131/4131 [==============================] - 3s 706us/step - loss: 0.8958 - accuracy: 0.5645\n",
      "Epoch 17/50\n",
      "4131/4131 [==============================] - 3s 765us/step - loss: 0.8994 - accuracy: 0.5597\n",
      "Epoch 18/50\n",
      "4131/4131 [==============================] - 3s 699us/step - loss: 0.9006 - accuracy: 0.5623\n",
      "Epoch 19/50\n",
      "4131/4131 [==============================] - 3s 762us/step - loss: 0.8936 - accuracy: 0.5638\n",
      "Epoch 20/50\n",
      "4131/4131 [==============================] - 3s 789us/step - loss: 0.8945 - accuracy: 0.5510\n",
      "Epoch 21/50\n",
      "4131/4131 [==============================] - 3s 699us/step - loss: 0.8936 - accuracy: 0.5616\n",
      "Epoch 22/50\n",
      "4131/4131 [==============================] - 3s 797us/step - loss: 0.8916 - accuracy: 0.5669\n",
      "Epoch 23/50\n",
      "4131/4131 [==============================] - 4s 917us/step - loss: 0.8910 - accuracy: 0.5667\n",
      "Epoch 24/50\n",
      "4131/4131 [==============================] - 3s 846us/step - loss: 0.8907 - accuracy: 0.5592\n",
      "Epoch 25/50\n",
      "4131/4131 [==============================] - 3s 776us/step - loss: 0.8895 - accuracy: 0.5706\n",
      "Epoch 26/50\n",
      "4131/4131 [==============================] - 3s 807us/step - loss: 0.8889 - accuracy: 0.5686\n",
      "Epoch 27/50\n",
      "4131/4131 [==============================] - 4s 997us/step - loss: 0.8891 - accuracy: 0.5669\n",
      "Epoch 28/50\n",
      "4131/4131 [==============================] - 4s 987us/step - loss: 0.8870 - accuracy: 0.5672\n",
      "Epoch 29/50\n",
      "4131/4131 [==============================] - 4s 864us/step - loss: 0.8882 - accuracy: 0.5657\n",
      "Epoch 30/50\n",
      "4131/4131 [==============================] - 4s 903us/step - loss: 0.8862 - accuracy: 0.5597\n",
      "Epoch 31/50\n",
      "4131/4131 [==============================] - 4s 875us/step - loss: 0.8867 - accuracy: 0.5633\n",
      "Epoch 32/50\n",
      "4131/4131 [==============================] - 3s 822us/step - loss: 0.8856 - accuracy: 0.5662\n",
      "Epoch 33/50\n",
      "4131/4131 [==============================] - 3s 812us/step - loss: 0.8832 - accuracy: 0.5713\n",
      "Epoch 34/50\n",
      "4131/4131 [==============================] - 4s 864us/step - loss: 0.8843 - accuracy: 0.5715\n",
      "Epoch 35/50\n",
      "4131/4131 [==============================] - 4s 1ms/step - loss: 0.8829 - accuracy: 0.5703\n",
      "Epoch 36/50\n",
      "4131/4131 [==============================] - 4s 1ms/step - loss: 0.8827 - accuracy: 0.5720\n",
      "Epoch 37/50\n",
      "4131/4131 [==============================] - 4s 1ms/step - loss: 0.8833 - accuracy: 0.5694\n",
      "Epoch 38/50\n",
      "4131/4131 [==============================] - 4s 1ms/step - loss: 0.8815 - accuracy: 0.5698\n",
      "Epoch 39/50\n",
      "4131/4131 [==============================] - 4s 1ms/step - loss: 0.8812 - accuracy: 0.5691\n",
      "Epoch 40/50\n",
      "4131/4131 [==============================] - 5s 1ms/step - loss: 0.8803 - accuracy: 0.5769\n",
      "Epoch 41/50\n",
      "4131/4131 [==============================] - 5s 1ms/step - loss: 0.8813 - accuracy: 0.5669\n",
      "Epoch 42/50\n",
      "4131/4131 [==============================] - 5s 1ms/step - loss: 0.8800 - accuracy: 0.5679\n",
      "Epoch 43/50\n",
      "4131/4131 [==============================] - 5s 1ms/step - loss: 0.8808 - accuracy: 0.5710\n",
      "Epoch 44/50\n",
      "4131/4131 [==============================] - 5s 1ms/step - loss: 0.8775 - accuracy: 0.5732\n",
      "Epoch 45/50\n",
      "4131/4131 [==============================] - 6s 1ms/step - loss: 0.8764 - accuracy: 0.5701\n",
      "Epoch 46/50\n",
      "4131/4131 [==============================] - 5s 1ms/step - loss: 0.8780 - accuracy: 0.5732\n",
      "Epoch 47/50\n",
      "4131/4131 [==============================] - 5s 1ms/step - loss: 0.8763 - accuracy: 0.5720\n",
      "Epoch 48/50\n",
      "4131/4131 [==============================] - 5s 1ms/step - loss: 0.8743 - accuracy: 0.5749\n",
      "Epoch 49/50\n",
      "4131/4131 [==============================] - 5s 1ms/step - loss: 0.8732 - accuracy: 0.5752\n",
      "Epoch 50/50\n",
      "4131/4131 [==============================] - 4s 967us/step - loss: 0.8734 - accuracy: 0.5781\n"
     ]
    },
    {
     "data": {
      "text/plain": [
       "<keras.callbacks.History at 0x2ba2e6d09d0>"
      ]
     },
     "execution_count": 408,
     "metadata": {},
     "output_type": "execute_result"
    }
   ],
   "source": [
    "model.fit(X, y_encoded, epochs=50, batch_size=1)"
   ]
  }
 ],
 "metadata": {
  "kernelspec": {
   "display_name": "base",
   "language": "python",
   "name": "python3"
  },
  "language_info": {
   "codemirror_mode": {
    "name": "ipython",
    "version": 3
   },
   "file_extension": ".py",
   "mimetype": "text/x-python",
   "name": "python",
   "nbconvert_exporter": "python",
   "pygments_lexer": "ipython3",
   "version": "3.9.13"
  },
  "orig_nbformat": 4
 },
 "nbformat": 4,
 "nbformat_minor": 2
}
