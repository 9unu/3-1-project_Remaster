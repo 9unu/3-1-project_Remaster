{
 "cells": [
  {
   "cell_type": "code",
   "execution_count": 22,
   "metadata": {},
   "outputs": [],
   "source": [
    "import pandas as pd\n",
    "import numpy as np"
   ]
  },
  {
   "cell_type": "code",
   "execution_count": 23,
   "metadata": {},
   "outputs": [],
   "source": [
    "data=pd.read_csv(r\"C:\\Users\\USER\\Desktop\\건우\\fat_predict_project\\data\\public_health_data_csv\\data_set.csv\")"
   ]
  },
  {
   "cell_type": "markdown",
   "metadata": {},
   "source": [
    "# 1. 빠른 1차 성능파악을 위해 결측치를 모두 제거"
   ]
  },
  {
   "cell_type": "code",
   "execution_count": 24,
   "metadata": {},
   "outputs": [],
   "source": [
    "sampled_data=data.dropna()"
   ]
  },
  {
   "cell_type": "code",
   "execution_count": 25,
   "metadata": {},
   "outputs": [
    {
     "data": {
      "text/plain": [
       "8969"
      ]
     },
     "execution_count": 25,
     "metadata": {},
     "output_type": "execute_result"
    }
   ],
   "source": [
    "len(sampled_data)"
   ]
  },
  {
   "cell_type": "markdown",
   "metadata": {},
   "source": [
    "# 2. 경향을 보기 위해 정상, 과체중, 비만을 모두 같은 개수만큼 샘플링"
   ]
  },
  {
   "cell_type": "code",
   "execution_count": 26,
   "metadata": {},
   "outputs": [],
   "source": [
    "# sampled_data에서 'fat' 열 값에 따라 그룹화하여 데이터프레임 생성\n",
    "grouped = sampled_data.groupby('fat')\n",
    "\n",
    "# 비율이 1:1:1이 되도록 각 그룹 중 최소개수만큼 각각의 그룹에서 샘플링\n",
    "sampled_data = grouped.apply(lambda x: x.sample(n=min(len(x), sampled_data['fat'].value_counts().min())))"
   ]
  },
  {
   "cell_type": "code",
   "execution_count": 27,
   "metadata": {},
   "outputs": [
    {
     "data": {
      "text/plain": [
       "4131"
      ]
     },
     "execution_count": 27,
     "metadata": {},
     "output_type": "execute_result"
    }
   ],
   "source": [
    "len(sampled_data)"
   ]
  },
  {
   "cell_type": "markdown",
   "metadata": {},
   "source": [
    "# 3. fat비율에 맞춰서 같은 개수로 샘플링한 데이터셋을 csv 파일로 만듦"
   ]
  },
  {
   "cell_type": "code",
   "execution_count": 28,
   "metadata": {},
   "outputs": [],
   "source": [
    "# sampled_data.to_csv(\"profiling용.csv\", index=False)"
   ]
  },
  {
   "cell_type": "markdown",
   "metadata": {},
   "source": [
    "# 4. 13개의 데이터프레임으로 분할\n",
    "\n",
    "- pandas_profiling으로 대략적인 분포 확인\n",
    "- seaborn을 이용하여 target값인 fat에 따른 고유값 비율 시각화"
   ]
  },
  {
   "cell_type": "code",
   "execution_count": 29,
   "metadata": {},
   "outputs": [
    {
     "name": "stdout",
     "output_type": "stream",
     "text": [
      "쪼개진 개수: 13\n"
     ]
    }
   ],
   "source": [
    "# 전체 열 개수\n",
    "num_cols=sampled_data.shape[1]\n",
    "# 분할할 열 개수\n",
    "size=10\n",
    "\n",
    "#쪼개진 data프레임을 저장할 리스트\n",
    "data_frames=[]\n",
    "\n",
    "k=0\n",
    "for i in range(0,num_cols, size):\n",
    "    split=sampled_data.iloc[:, i:i+size]\n",
    "    data_frames.append(split)\n",
    "    k+=1\n",
    "print(\"쪼개진 개수:\", k)"
   ]
  },
  {
   "cell_type": "code",
   "execution_count": 30,
   "metadata": {},
   "outputs": [],
   "source": [
    "# k=0\n",
    "# for i in data_frames:\n",
    "#     pr=i.profile_report()\n",
    "#     pr.to_file(f'./pr_report{k}.html')\n",
    "#     k+=1"
   ]
  },
  {
   "cell_type": "code",
   "execution_count": 31,
   "metadata": {},
   "outputs": [],
   "source": [
    "# import seaborn as sns\n",
    "# import matplotlib.pyplot as plt\n",
    "# %matplotlib inline\n",
    "\n",
    "# for i in data_frames:\n",
    "#     colums=i.columns\n",
    "#     for k in range(len(i.columns)):\n",
    "#         sns.countplot(x=colums[k], hue='fat', data=sampled_data)\n",
    "#         plt.legend(loc='upper right', title='fat')\n",
    "#         plt.show()"
   ]
  },
  {
   "cell_type": "markdown",
   "metadata": {},
   "source": [
    "# 5. 문제점 발견!\n",
    "\n",
    "특성의 고유값마다 fat의 값(정상, 과체중, 비만) 비율이 비슷한 컬럼이 대다수\n",
    "\n",
    "###### 밑이 그 예시"
   ]
  },
  {
   "cell_type": "code",
   "execution_count": 32,
   "metadata": {},
   "outputs": [
    {
     "data": {
      "image/png": "[encoded data removed]",
      "text/plain": [
       "<Figure size 640x480 with 1 Axes>"
      ]
     },
     "metadata": {},
     "output_type": "display_data"
    }
   ],
   "source": [
    "'DF2_dg'\n",
    "\n",
    "import seaborn as sns\n",
    "import matplotlib.pyplot as plt\n",
    "%matplotlib inline\n",
    "\n",
    "sns.countplot(x='DF2_dg', hue='fat', data=sampled_data)\n",
    "plt.legend(loc='upper right', title='fat')\n",
    "plt.show()"
   ]
  }
 ],
 "metadata": {
  "kernelspec": {
   "display_name": "base",
   "language": "python",
   "name": "python3"
  },
  "language_info": {
   "codemirror_mode": {
    "name": "ipython",
    "version": 3
   },
   "file_extension": ".py",
   "mimetype": "text/x-python",
   "name": "python",
   "nbconvert_exporter": "python",
   "pygments_lexer": "ipython3",
   "version": "3.9.13"
  },
  "orig_nbformat": 4
 },
 "nbformat": 4,
 "nbformat_minor": 2
}
