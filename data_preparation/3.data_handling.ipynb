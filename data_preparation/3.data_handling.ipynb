{
 "cells": [
  {
   "cell_type": "code",
   "execution_count": 5,
   "metadata": {},
   "outputs": [],
   "source": [
    "import pandas as pd\n",
    "import numpy as np"
   ]
  },
  {
   "cell_type": "code",
   "execution_count": 6,
   "metadata": {},
   "outputs": [
    {
     "name": "stderr",
     "output_type": "stream",
     "text": [
      "C:\\Users\\USER\\AppData\\Local\\Temp\\ipykernel_23528\\2462227262.py:1: DtypeWarning: Columns (82,111,236,371,377,487,498,581,641,667,698,702,753,763,810,822,1154,1159) have mixed types. Specify dtype option on import or set low_memory=False.\n",
      "  data=pd.read_csv(r\"C:\\Users\\USER\\Desktop\\fat_predict_project\\data\\public_health_data_csv\\08+09_통합.csv\")\n"
     ]
    }
   ],
   "source": [
    "data=pd.read_csv(r\"C:\\Users\\USER\\Desktop\\fat_predict_project\\data\\public_health_data_csv\\08+09_통합.csv\")"
   ]
  },
  {
   "cell_type": "markdown",
   "metadata": {},
   "source": [
    "# 1. TATGET인 'fat' 특성을 만들기 위해 필요한 DW_WBT_pFT (체지방률)이 결측치인 행 삭제"
   ]
  },
  {
   "cell_type": "code",
   "execution_count": 7,
   "metadata": {},
   "outputs": [],
   "source": [
    "data=data.dropna(subset=['DW_WBT_pFT'])"
   ]
  },
  {
   "cell_type": "code",
   "execution_count": 8,
   "metadata": {},
   "outputs": [],
   "source": [
    "example=pd.read_csv(r\"C:\\Users\\USER\\Desktop\\비만 예측 모델 폴더\\사용할만한 csv파일\\2008년 남자데이터 (결측치 대치,k=5).CSV\")"
   ]
  },
  {
   "cell_type": "markdown",
   "metadata": {},
   "source": [
    "# 2. 기존 프로젝트에서 1차로 주관적으로 선택했던 특성(기본 정보(나이, 소득분위...), 활동량 정보(걸음수 등).. ) 124개와 같은 특성만 남김"
   ]
  },
  {
   "cell_type": "code",
   "execution_count": 9,
   "metadata": {},
   "outputs": [],
   "source": [
    "common_col=data.columns.intersection(example.columns)\n",
    "data=data[common_col]"
   ]
  },
  {
   "cell_type": "markdown",
   "metadata": {},
   "source": [
    "# 3. target값 생성('fat')"
   ]
  },
  {
   "cell_type": "markdown",
   "metadata": {},
   "source": [
    "sex=1 : 남자\n",
    "sex=2 : 여자\n",
    "\n",
    "정상, 과체중, 비만의 체지방률 기반 구분 범위 ('DW_WBT_pFT')\n",
    "\n",
    "###### -------------\n",
    "\n",
    "남자 \n",
    "\n",
    "정상: 16.7~22.5\n",
    "\n",
    "과체중: 22.5~24.8\n",
    "\n",
    "비만: 24.8~\n",
    "\n",
    "###### -------------\n",
    "여자 \n",
    "\n",
    "정상: 28.0~34.3\n",
    "\n",
    "과체중: 34.3~36.49\n",
    "\n",
    "비만:36.5~"
   ]
  },
  {
   "cell_type": "markdown",
   "metadata": {},
   "source": [
    "---------\n",
    "target 특성인 fat 컬럼 추가 (target label)\n",
    "\n",
    "0: 정상\n",
    "\n",
    "1: 과체중\n",
    "\n",
    "2: 비만"
   ]
  },
  {
   "cell_type": "code",
   "execution_count": 11,
   "metadata": {},
   "outputs": [],
   "source": [
    "data['fat']=0\n",
    "# 남자\n",
    "data.loc[ (data['sex']==1) & (data['DW_WBT_pFT']<22.5), 'fat']=0  # 정상\n",
    "data.loc[ (data['sex']==1) & (data['DW_WBT_pFT']>=22.5), 'fat']=1 # 과체중\n",
    "data.loc[ (data['sex']==1) & (data['DW_WBT_pFT']>=24.8), 'fat']=2 # 비만\n",
    "\n",
    "# 여자\n",
    "data.loc[ (data['sex']==2) & (data['DW_WBT_pFT']<28.0), 'fat']=0\n",
    "data.loc[ (data['sex']==2) & (data['DW_WBT_pFT']>=34.3), 'fat']=1\n",
    "data.loc[ (data['sex']==2) & (data['DW_WBT_pFT']>=36.5), 'fat']=2"
   ]
  },
  {
   "cell_type": "code",
   "execution_count": 12,
   "metadata": {},
   "outputs": [],
   "source": [
    "#data.to_csv(\"data_set.csv\", index=False)"
   ]
  }
 ],
 "metadata": {
  "kernelspec": {
   "display_name": "base",
   "language": "python",
   "name": "python3"
  },
  "language_info": {
   "codemirror_mode": {
    "name": "ipython",
    "version": 3
   },
   "file_extension": ".py",
   "mimetype": "text/x-python",
   "name": "python",
   "nbconvert_exporter": "python",
   "pygments_lexer": "ipython3",
   "version": "3.9.13"
  },
  "orig_nbformat": 4
 },
 "nbformat": 4,
 "nbformat_minor": 2
}
