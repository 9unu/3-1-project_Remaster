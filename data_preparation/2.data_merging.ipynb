{
 "cells": [
  {
   "cell_type": "markdown",
   "metadata": {},
   "source": [
    "# 1. 08년도, 09년도의 기본DB와 체지방관련 DB를 ID를 기준으로 각각 병합 "
   ]
  },
  {
   "cell_type": "code",
   "execution_count": 97,
   "metadata": {},
   "outputs": [],
   "source": [
    "import pandas as pd\n",
    "import numpy as np"
   ]
  },
  {
   "cell_type": "code",
   "execution_count": 98,
   "metadata": {},
   "outputs": [
    {
     "name": "stderr",
     "output_type": "stream",
     "text": [
      "C:\\Users\\USER\\AppData\\Local\\Temp\\ipykernel_13708\\402900764.py:1: DtypeWarning: Columns (83,112,237,372,378,488,499,568,576,582,596,620,642,668,699,703,754,764,811,823,1111,1149) have mixed types. Specify dtype option on import or set low_memory=False.\n",
      "  df_08_base=pd.read_csv(r\"C:\\Users\\USER\\Desktop\\fat_predict_project\\data\\public_health_data_csv\\2008_기본.csv\")\n"
     ]
    }
   ],
   "source": [
    "df_08_base=pd.read_csv(r\"C:\\Users\\USER\\Desktop\\fat_predict_project\\data\\public_health_data_csv\\2008_기본.csv\")\n",
    "df_08_fat=pd.read_csv(r\"C:\\Users\\USER\\Desktop\\fat_predict_project\\data\\public_health_data_csv\\2008_골밀도_체지방.csv\")"
   ]
  },
  {
   "cell_type": "code",
   "execution_count": 99,
   "metadata": {},
   "outputs": [
    {
     "name": "stdout",
     "output_type": "stream",
     "text": [
      "9744\n",
      "3583\n"
     ]
    }
   ],
   "source": [
    "print(len(df_08_base))\n",
    "print(len(df_08_fat))"
   ]
  },
  {
   "cell_type": "code",
   "execution_count": 100,
   "metadata": {},
   "outputs": [],
   "source": [
    "df_08=\\\n",
    "    pd.merge(df_08_base, df_08_fat, on='ID', how='left')"
   ]
  },
  {
   "cell_type": "code",
   "execution_count": 101,
   "metadata": {},
   "outputs": [],
   "source": [
    "# df_08.to_csv(\"2008_통합.csv\", index=False)"
   ]
  },
  {
   "cell_type": "code",
   "execution_count": 102,
   "metadata": {},
   "outputs": [
    {
     "name": "stderr",
     "output_type": "stream",
     "text": [
      "C:\\Users\\USER\\AppData\\Local\\Temp\\ipykernel_13708\\3504640829.py:1: DtypeWarning: Columns (85,114,187,240,375,381,502,645,671,702,706,767,814,826) have mixed types. Specify dtype option on import or set low_memory=False.\n",
      "  df_09_base=pd.read_csv(r\"C:\\Users\\USER\\Desktop\\fat_predict_project\\data\\public_health_data_csv\\2009_기본.csv\")\n"
     ]
    }
   ],
   "source": [
    "df_09_base=pd.read_csv(r\"C:\\Users\\USER\\Desktop\\fat_predict_project\\data\\public_health_data_csv\\2009_기본.csv\")\n",
    "df_09_fat=pd.read_csv(r\"C:\\Users\\USER\\Desktop\\fat_predict_project\\data\\public_health_data_csv\\2009_골밀도_체지방.csv\")"
   ]
  },
  {
   "cell_type": "code",
   "execution_count": 103,
   "metadata": {},
   "outputs": [],
   "source": [
    "df_09=\\\n",
    "    pd.merge(df_09_base, df_09_fat, on='ID', how='left')"
   ]
  },
  {
   "cell_type": "code",
   "execution_count": 104,
   "metadata": {},
   "outputs": [],
   "source": [
    "# df_09.to_csv(\"2009_통합.csv\", index=False)"
   ]
  },
  {
   "cell_type": "markdown",
   "metadata": {},
   "source": [
    "# 2. 08년도 데이터와 09년도 데이터 병합"
   ]
  },
  {
   "cell_type": "code",
   "execution_count": 105,
   "metadata": {},
   "outputs": [],
   "source": [
    "df_08_09=pd.concat([df_08, df_09], axis=0, join='inner')\n",
    "df_08_09.columns = df_08_09.columns.str.replace('_x$', '', regex=True)\n",
    "#정규식 사용해서 join에서 생기는 _x를 없앰"
   ]
  },
  {
   "cell_type": "code",
   "execution_count": 106,
   "metadata": {},
   "outputs": [
    {
     "data": {
      "text/html": [
       "<div>\n",
       "<style scoped>\n",
       "    .dataframe tbody tr th:only-of-type {\n",
       "        vertical-align: middle;\n",
       "    }\n",
       "\n",
       "    .dataframe tbody tr th {\n",
       "        vertical-align: top;\n",
       "    }\n",
       "\n",
       "    .dataframe thead th {\n",
       "        text-align: right;\n",
       "    }\n",
       "</style>\n",
       "<table border=\"1\" class=\"dataframe\">\n",
       "  <thead>\n",
       "    <tr style=\"text-align: right;\">\n",
       "      <th></th>\n",
       "      <th>mod_d</th>\n",
       "      <th>ID</th>\n",
       "      <th>year</th>\n",
       "      <th>region</th>\n",
       "      <th>town_t</th>\n",
       "      <th>apt_t</th>\n",
       "      <th>psu</th>\n",
       "      <th>sex</th>\n",
       "      <th>age</th>\n",
       "      <th>incm</th>\n",
       "      <th>...</th>\n",
       "      <th>DW_Rlg_MS</th>\n",
       "      <th>DW_Rlg_pFT</th>\n",
       "      <th>DW_SBT_FT</th>\n",
       "      <th>DW_SBT_LN</th>\n",
       "      <th>DW_SBT_MS</th>\n",
       "      <th>DW_SBT_pFT</th>\n",
       "      <th>DW_WBT_FT</th>\n",
       "      <th>DW_WBT_LN</th>\n",
       "      <th>DW_WBT_MS</th>\n",
       "      <th>DW_WBT_pFT</th>\n",
       "    </tr>\n",
       "  </thead>\n",
       "  <tbody>\n",
       "    <tr>\n",
       "      <th>0</th>\n",
       "      <td>b'2022.03.08'</td>\n",
       "      <td>b'A448440901'</td>\n",
       "      <td>2008</td>\n",
       "      <td>1</td>\n",
       "      <td>1</td>\n",
       "      <td>1</td>\n",
       "      <td>b'A448'</td>\n",
       "      <td>1</td>\n",
       "      <td>70</td>\n",
       "      <td>2.0</td>\n",
       "      <td>...</td>\n",
       "      <td>8994.922731</td>\n",
       "      <td>17.772503</td>\n",
       "      <td>9588.845972</td>\n",
       "      <td>42302.803296</td>\n",
       "      <td>51891.649269</td>\n",
       "      <td>18.478592</td>\n",
       "      <td>10554.355505</td>\n",
       "      <td>46552.974364</td>\n",
       "      <td>57107.329869</td>\n",
       "      <td>18.481613</td>\n",
       "    </tr>\n",
       "    <tr>\n",
       "      <th>1</th>\n",
       "      <td>b'2022.03.08'</td>\n",
       "      <td>b'A448440902'</td>\n",
       "      <td>2008</td>\n",
       "      <td>1</td>\n",
       "      <td>1</td>\n",
       "      <td>1</td>\n",
       "      <td>b'A448'</td>\n",
       "      <td>2</td>\n",
       "      <td>68</td>\n",
       "      <td>2.0</td>\n",
       "      <td>...</td>\n",
       "      <td>10147.210496</td>\n",
       "      <td>36.271155</td>\n",
       "      <td>21544.371816</td>\n",
       "      <td>36012.827211</td>\n",
       "      <td>57557.199027</td>\n",
       "      <td>37.431237</td>\n",
       "      <td>22368.168979</td>\n",
       "      <td>39576.867999</td>\n",
       "      <td>61945.036978</td>\n",
       "      <td>36.109703</td>\n",
       "    </tr>\n",
       "    <tr>\n",
       "      <th>2</th>\n",
       "      <td>b'2022.03.08'</td>\n",
       "      <td>b'A448680102'</td>\n",
       "      <td>2008</td>\n",
       "      <td>1</td>\n",
       "      <td>1</td>\n",
       "      <td>1</td>\n",
       "      <td>b'A448'</td>\n",
       "      <td>2</td>\n",
       "      <td>48</td>\n",
       "      <td>4.0</td>\n",
       "      <td>...</td>\n",
       "      <td>9187.553546</td>\n",
       "      <td>36.286346</td>\n",
       "      <td>22269.339707</td>\n",
       "      <td>31796.225315</td>\n",
       "      <td>54065.565022</td>\n",
       "      <td>41.189507</td>\n",
       "      <td>23114.327698</td>\n",
       "      <td>35755.704739</td>\n",
       "      <td>58870.032437</td>\n",
       "      <td>39.263317</td>\n",
       "    </tr>\n",
       "    <tr>\n",
       "      <th>3</th>\n",
       "      <td>b'2022.03.08'</td>\n",
       "      <td>b'A448680501'</td>\n",
       "      <td>2008</td>\n",
       "      <td>1</td>\n",
       "      <td>1</td>\n",
       "      <td>1</td>\n",
       "      <td>b'A448'</td>\n",
       "      <td>2</td>\n",
       "      <td>35</td>\n",
       "      <td>3.0</td>\n",
       "      <td>...</td>\n",
       "      <td>8723.150565</td>\n",
       "      <td>21.685734</td>\n",
       "      <td>11724.950815</td>\n",
       "      <td>36301.030400</td>\n",
       "      <td>48025.981215</td>\n",
       "      <td>24.413766</td>\n",
       "      <td>12571.863454</td>\n",
       "      <td>40136.724756</td>\n",
       "      <td>52708.588210</td>\n",
       "      <td>23.851641</td>\n",
       "    </tr>\n",
       "    <tr>\n",
       "      <th>4</th>\n",
       "      <td>b'2022.03.08'</td>\n",
       "      <td>b'A448680502'</td>\n",
       "      <td>2008</td>\n",
       "      <td>1</td>\n",
       "      <td>1</td>\n",
       "      <td>1</td>\n",
       "      <td>b'A448'</td>\n",
       "      <td>1</td>\n",
       "      <td>12</td>\n",
       "      <td>3.0</td>\n",
       "      <td>...</td>\n",
       "      <td>NaN</td>\n",
       "      <td>NaN</td>\n",
       "      <td>NaN</td>\n",
       "      <td>NaN</td>\n",
       "      <td>NaN</td>\n",
       "      <td>NaN</td>\n",
       "      <td>NaN</td>\n",
       "      <td>NaN</td>\n",
       "      <td>NaN</td>\n",
       "      <td>NaN</td>\n",
       "    </tr>\n",
       "  </tbody>\n",
       "</table>\n",
       "<p>5 rows × 1300 columns</p>\n",
       "</div>"
      ],
      "text/plain": [
       "           mod_d             ID  year  region  town_t  apt_t      psu  sex  \\\n",
       "0  b'2022.03.08'  b'A448440901'  2008       1       1      1  b'A448'    1   \n",
       "1  b'2022.03.08'  b'A448440902'  2008       1       1      1  b'A448'    2   \n",
       "2  b'2022.03.08'  b'A448680102'  2008       1       1      1  b'A448'    2   \n",
       "3  b'2022.03.08'  b'A448680501'  2008       1       1      1  b'A448'    2   \n",
       "4  b'2022.03.08'  b'A448680502'  2008       1       1      1  b'A448'    1   \n",
       "\n",
       "   age  incm  ...     DW_Rlg_MS  DW_Rlg_pFT     DW_SBT_FT     DW_SBT_LN  \\\n",
       "0   70   2.0  ...   8994.922731   17.772503   9588.845972  42302.803296   \n",
       "1   68   2.0  ...  10147.210496   36.271155  21544.371816  36012.827211   \n",
       "2   48   4.0  ...   9187.553546   36.286346  22269.339707  31796.225315   \n",
       "3   35   3.0  ...   8723.150565   21.685734  11724.950815  36301.030400   \n",
       "4   12   3.0  ...           NaN         NaN           NaN           NaN   \n",
       "\n",
       "      DW_SBT_MS  DW_SBT_pFT     DW_WBT_FT     DW_WBT_LN     DW_WBT_MS  \\\n",
       "0  51891.649269   18.478592  10554.355505  46552.974364  57107.329869   \n",
       "1  57557.199027   37.431237  22368.168979  39576.867999  61945.036978   \n",
       "2  54065.565022   41.189507  23114.327698  35755.704739  58870.032437   \n",
       "3  48025.981215   24.413766  12571.863454  40136.724756  52708.588210   \n",
       "4           NaN         NaN           NaN           NaN           NaN   \n",
       "\n",
       "   DW_WBT_pFT  \n",
       "0   18.481613  \n",
       "1   36.109703  \n",
       "2   39.263317  \n",
       "3   23.851641  \n",
       "4         NaN  \n",
       "\n",
       "[5 rows x 1300 columns]"
      ]
     },
     "execution_count": 106,
     "metadata": {},
     "output_type": "execute_result"
    }
   ],
   "source": [
    "df_08_09.head()"
   ]
  },
  {
   "cell_type": "code",
   "execution_count": 108,
   "metadata": {},
   "outputs": [],
   "source": [
    "#df_08_09.to_csv(\"08+09_통합.csv\", index=False)"
   ]
  }
 ],
 "metadata": {
  "kernelspec": {
   "display_name": "base",
   "language": "python",
   "name": "python3"
  },
  "language_info": {
   "codemirror_mode": {
    "name": "ipython",
    "version": 3
   },
   "file_extension": ".py",
   "mimetype": "text/x-python",
   "name": "python",
   "nbconvert_exporter": "python",
   "pygments_lexer": "ipython3",
   "version": "3.9.13"
  },
  "orig_nbformat": 4
 },
 "nbformat": 4,
 "nbformat_minor": 2
}
