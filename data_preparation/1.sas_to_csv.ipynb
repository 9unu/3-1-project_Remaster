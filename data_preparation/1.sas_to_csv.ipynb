{
 "cells": [
  {
   "cell_type": "markdown",
   "metadata": {},
   "source": [
    "# SaS파일을 csv파일로 변환"
   ]
  },
  {
   "cell_type": "code",
   "execution_count": 1,
   "metadata": {},
   "outputs": [],
   "source": [
    "import pandas as pd\n",
    "import os\n",
    "\n",
    "def sas_to_csv(a, b,c):\n",
    "    sas_file=a\n",
    "    data=pd.read_sas(sas_file)\n",
    "    save_direct=b\n",
    "    csv_file=os.path.join(save_direct, f\"{c}.csv\")\n",
    "    data.to_csv(csv_file, index=False)"
   ]
  },
  {
   "cell_type": "code",
   "execution_count": 2,
   "metadata": {},
   "outputs": [],
   "source": [
    "sas_file=r\"C:\\Users\\USER\\Desktop\\fat_predict_project\\public_health_data\\2008_골밀도_체지방.sas7bdat\"\n",
    "save_direct=r\"C:\\Users\\USER\\Desktop\\fat_predict_project\\public_health_data_csv\"\n",
    "name=\"2008_골밀도_체지방\"\n",
    "sas_to_csv(sas_file, save_direct, name)"
   ]
  },
  {
   "cell_type": "code",
   "execution_count": 3,
   "metadata": {},
   "outputs": [],
   "source": [
    "sas_file=r\"C:\\Users\\USER\\Desktop\\fat_predict_project\\public_health_data\\2008_기본.sas7bdat\"\n",
    "save_direct=r\"C:\\Users\\USER\\Desktop\\fat_predict_project\\public_health_data_csv\"\n",
    "name=\"2008_기본\"\n",
    "sas_to_csv(sas_file, save_direct, name)"
   ]
  },
  {
   "cell_type": "code",
   "execution_count": 6,
   "metadata": {},
   "outputs": [],
   "source": [
    "sas_file=r\"C:\\Users\\USER\\Desktop\\fat_predict_project\\public_health_data\\2009_골밀도_체지방.sas7bdat\"\n",
    "save_direct=r\"C:\\Users\\USER\\Desktop\\fat_predict_project\\public_health_data_csv\"\n",
    "name=\"2009_골밀도_체지방\"\n",
    "sas_to_csv(sas_file, save_direct, name)"
   ]
  },
  {
   "cell_type": "code",
   "execution_count": 7,
   "metadata": {},
   "outputs": [],
   "source": [
    "sas_file=r\"C:\\Users\\USER\\Desktop\\fat_predict_project\\public_health_data\\2009_기본.sas7bdat\"\n",
    "save_direct=r\"C:\\Users\\USER\\Desktop\\fat_predict_project\\public_health_data_csv\"\n",
    "name=\"2009_기본\"\n",
    "sas_to_csv(sas_file, save_direct, name)"
   ]
  }
 ],
 "metadata": {
  "kernelspec": {
   "display_name": "base",
   "language": "python",
   "name": "python3"
  },
  "language_info": {
   "codemirror_mode": {
    "name": "ipython",
    "version": 3
   },
   "file_extension": ".py",
   "mimetype": "text/x-python",
   "name": "python",
   "nbconvert_exporter": "python",
   "pygments_lexer": "ipython3",
   "version": "3.9.13"
  },
  "orig_nbformat": 4
 },
 "nbformat": 4,
 "nbformat_minor": 2
}
